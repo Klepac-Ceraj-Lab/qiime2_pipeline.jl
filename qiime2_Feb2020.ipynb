{
 "cells": [
  {
   "cell_type": "markdown",
   "metadata": {},
   "source": [
    "# Nisreen's Bokashi Project -- 16S rRNA gene data\n",
    "This workflow was generated from LangilleLab workflow and Qiime Tutorials, Qiime version 2020.8 \n",
    "\n",
    "https://github.com/LangilleLab/microbiome_helper/wiki/Amplicon-SOP-v2-(qiime2-2020.8)\n",
    "\n",
    "In terminal:\n",
    "conda source activate qiime2-2020.8\n",
    "jupyter notebook"
   ]
  },
  {
   "cell_type": "code",
   "execution_count": 1,
   "metadata": {},
   "outputs": [
    {
     "name": "stdout",
     "output_type": "stream",
     "text": [
      "Populating the interactive namespace from numpy and matplotlib\n"
     ]
    }
   ],
   "source": [
    "from os import chdir, mkdir\n",
    "from os.path import join\n",
    "#the following are only available in the current development branch of IPython\n",
    "from IPython.display import FileLinks, FileLink\n",
    "\n",
    "%pylab inline\n",
    "import pandas as pd\n",
    "import numpy as np\n",
    "import matplotlib.pyplot as plt\n",
    "\n",
    "# Set some Pandas options\n",
    "pd.set_option('display.notebook_repr_html', False)\n",
    "pd.set_option('display.max_columns', 20)\n",
    "pd.set_option('display.max_rows', 25)\n",
    "#populating the interactive namespace for numpy and matplotlib - not needed now..."
   ]
  },
  {
   "cell_type": "code",
   "execution_count": 27,
   "metadata": {},
   "outputs": [],
   "source": [
    "project_name = \"Nisreen_bokashi\"\n",
    "mapping_file = \"./Nisreen_16Smapping.tsv\"\n",
    "classifier = \"/Users/vklepacc/classifiers/silva-138-99-nb-classifier.qza\"\n",
    "NCORES = 2\n",
    "#to avoid changing mapping file / classifier throughout the code, just refer to it by typing $mapping_file"
   ]
  },
  {
   "cell_type": "markdown",
   "metadata": {},
   "source": [
    "## Inspect read quality\n",
    "Need FastQC and MultiQC (separately downloaded as these are not packaged in qiime2)"
   ]
  },
  {
   "cell_type": "code",
   "execution_count": 4,
   "metadata": {},
   "outputs": [
    {
     "ename": "SyntaxError",
     "evalue": "invalid syntax (<ipython-input-4-c5a0fe8269cf>, line 2)",
     "output_type": "error",
     "traceback": [
      "\u001b[0;36m  File \u001b[0;32m\"<ipython-input-4-c5a0fe8269cf>\"\u001b[0;36m, line \u001b[0;32m2\u001b[0m\n\u001b[0;31m    fastqc -t 4 raw_data/* -o fastqc_out\u001b[0m\n\u001b[0m              ^\u001b[0m\n\u001b[0;31mSyntaxError\u001b[0m\u001b[0;31m:\u001b[0m invalid syntax\n"
     ]
    }
   ],
   "source": [
    "    !mkdir fastqc_out\n",
    "    !fastqc -t 4 raw_data/* -o fastqc_out"
   ]
  },
  {
   "cell_type": "markdown",
   "metadata": {},
   "source": [
    "## Import Raw Sequence files as Qiime 2 artifact\n",
    "This allows for standardization of QIIME 2 analyses and keeps track of all commands that were run to produce a file. The extension for the artifact files is QZA."
   ]
  },
  {
   "cell_type": "code",
   "execution_count": 5,
   "metadata": {},
   "outputs": [
    {
     "name": "stdout",
     "output_type": "stream",
     "text": [
      "\u001b[32mImported raw_data as CasavaOneEightSingleLanePerSampleDirFmt to reads_qza/reads.qza\u001b[0m\r\n"
     ]
    }
   ],
   "source": [
    "!mkdir reads_qza\n",
    "\n",
    "!qiime tools import --type SampleData[PairedEndSequencesWithQuality] \\\n",
    "                   --input-path raw_data \\\n",
    "                   --output-path reads_qza/reads.qza \\\n",
    "                   --input-format CasavaOneEightSingleLanePerSampleDirFmt"
   ]
  },
  {
   "cell_type": "markdown",
   "metadata": {},
   "source": [
    "## Trim primers with cutadapt\n",
    "Trim primers with cutadapt - remove all primers and take out all sequences that don't begin with primer sequence  \n",
    "16S V4-V5 region bacteria + archaea  \n",
    "515F = GTGYCAGCMGCCGCGGTAA  \n",
    "926R = CCGYCAATTYMTTTRAGTTT  \n",
    "\n",
    "For V6-V8 region:  \n",
    "   --p-front-f TYAATYGGANTCAACRCC \\\n",
    "   --p-front-r CRGTGWGTRCAAGGRGCA \\"
   ]
  },
  {
   "cell_type": "code",
   "execution_count": 7,
   "metadata": {},
   "outputs": [
    {
     "name": "stdout",
     "output_type": "stream",
     "text": [
      "\u001b[32mSaved SampleData[PairedEndSequencesWithQuality] to: reads_qza/reads_trimmed.qza\u001b[0m\r\n"
     ]
    }
   ],
   "source": [
    "!qiime cutadapt trim-paired --i-demultiplexed-sequences reads_qza/reads.qza \\\n",
    "                           --p-cores $NCORES \\\n",
    "                           --p-front-f ^GTGYCAGCMGCCGCGGTAA \\\n",
    "                           --p-front-r ^CCGYCAATTYMTTTRAGTTT \\\n",
    "                           --o-trimmed-sequences reads_qza/reads_trimmed.qza"
   ]
  },
  {
   "cell_type": "markdown",
   "metadata": {},
   "source": [
    "## Summarize trimmed FASTQs\n",
    "qiime demux summarize command gives back a report of the number of reads per sample and quality distribution across the reads."
   ]
  },
  {
   "cell_type": "code",
   "execution_count": 8,
   "metadata": {},
   "outputs": [
    {
     "name": "stdout",
     "output_type": "stream",
     "text": [
      "\u001b[32mSaved Visualization to: reads_qza/reads_trimmed_summary.qzv\u001b[0m\r\n"
     ]
    }
   ],
   "source": [
    "!qiime demux summarize \\\n",
    "   --i-data reads_qza/reads_trimmed.qza \\\n",
    "   --o-visualization reads_qza/reads_trimmed_summary.qzv"
   ]
  },
  {
   "cell_type": "markdown",
   "metadata": {},
   "source": [
    "## Denoising reads into ASVs\n",
    "DADA2 - https://benjjneb.github.io/dada2/tutorial.html"
   ]
  },
  {
   "cell_type": "code",
   "execution_count": 11,
   "metadata": {},
   "outputs": [],
   "source": [
    "#!qiime dada2 denoise-paired --help"
   ]
  },
  {
   "cell_type": "code",
   "execution_count": 3,
   "metadata": {
    "scrolled": true
   },
   "outputs": [
    {
     "name": "stdout",
     "output_type": "stream",
     "text": [
      "Running external command line application(s). This may print messages to stdout and/or stderr.\n",
      "The command(s) being run are below. These commands cannot be manually re-run as they will depend on temporary files that no longer exist.\n",
      "\n",
      "Command: run_dada_paired.R /var/folders/k0/my9vv5l15_dfcwf1xl3dksg00000gp/T/tmpenxz4c2i/forward /var/folders/k0/my9vv5l15_dfcwf1xl3dksg00000gp/T/tmpenxz4c2i/reverse /var/folders/k0/my9vv5l15_dfcwf1xl3dksg00000gp/T/tmpenxz4c2i/output.tsv.biom /var/folders/k0/my9vv5l15_dfcwf1xl3dksg00000gp/T/tmpenxz4c2i/track.tsv /var/folders/k0/my9vv5l15_dfcwf1xl3dksg00000gp/T/tmpenxz4c2i/filt_f /var/folders/k0/my9vv5l15_dfcwf1xl3dksg00000gp/T/tmpenxz4c2i/filt_r 270 210 0 0 2.0 3.0 2 independent consensus 1.0 1 1000000\n",
      "\n",
      "R version 3.5.1 (2018-07-02) \n",
      "Loading required package: Rcpp\n",
      "DADA2: 1.10.0 / Rcpp: 1.0.4.6 / RcppParallel: 5.0.0 \n",
      "1) Filtering ......................................................................................\n",
      "2) Learning Error Rates\n",
      "277396920 total bases in 1027396 reads from 37 samples will be used for learning the error rates.\n",
      "215753160 total bases in 1027396 reads from 37 samples will be used for learning the error rates.\n",
      "3) Denoise samples ......................................................................................\n",
      "......................................................................................\n",
      "4) Remove chimeras (method = consensus)\n",
      "6) Write output\n",
      "\u001b[32mSaved FeatureTable[Frequency] to: dada2_output/table.qza\u001b[0m\n",
      "\u001b[32mSaved FeatureData[Sequence] to: dada2_output/representative_sequences.qza\u001b[0m\n",
      "\u001b[32mSaved SampleData[DADA2Stats] to: dada2_output/denoising_stats.qza\u001b[0m\n"
     ]
    }
   ],
   "source": [
    "!qiime dada2 denoise-paired --i-demultiplexed-seqs reads_qza/reads_trimmed.qza \\\n",
    "                          --p-trunc-len-f 270 \\\n",
    "                          --p-trunc-len-r 210 \\\n",
    "                          --p-max-ee-f 2 \\\n",
    "                          --p-max-ee-r 3 \\\n",
    "                          --p-n-threads 1 \\ \n",
    "                          --output-dir dada2_output --verbose\n",
    "#p-n-threads should prob. be higher on a server "
   ]
  },
  {
   "cell_type": "code",
   "execution_count": 4,
   "metadata": {},
   "outputs": [
    {
     "name": "stdout",
     "output_type": "stream",
     "text": [
      "\u001b[32mExported dada2_output/denoising_stats.qza as DADA2StatsDirFmt to directory dada2_output\u001b[0m\r\n"
     ]
    }
   ],
   "source": [
    "#for checking how many reads are retained\n",
    "!qiime tools export --input-path dada2_output/denoising_stats.qza --output-path dada2_output"
   ]
  },
  {
   "cell_type": "code",
   "execution_count": 5,
   "metadata": {},
   "outputs": [
    {
     "name": "stdout",
     "output_type": "stream",
     "text": [
      "\u001b[32mSaved Visualization to: dada2_output/table_summary.qzv\u001b[0m\r\n"
     ]
    }
   ],
   "source": [
    "#summarizing DADA2 output\n",
    "!qiime feature-table summarize --i-table dada2_output/table.qza --o-visualization dada2_output/table_summary.qzv"
   ]
  },
  {
   "cell_type": "markdown",
   "metadata": {},
   "source": [
    "# Assign taxonomy to ASVs\n",
    "You can assign taxonomy to your ASVs using a Naive-Bayes approach implemented in the scikit learn Python library and the SILVA database. \n",
    "  \n",
    "### Build or acquire taxonomic classifier\n",
    "The full-length 16S/18S classifier was downloaded from the QIIME 2 website (silva-138-99-nb-classifier.qza for the latest classifier). \n",
    " \n",
    "### Run taxonomic classification\n",
    "You can run the taxonomic classification with this command, which is one of the longest running and most memory-intensive command of the SOP."
   ]
  },
  {
   "cell_type": "code",
   "execution_count": 6,
   "metadata": {},
   "outputs": [],
   "source": [
    "#!qiime feature-classifier classify-sklearn --help"
   ]
  },
  {
   "cell_type": "code",
   "execution_count": 7,
   "metadata": {},
   "outputs": [
    {
     "name": "stdout",
     "output_type": "stream",
     "text": [
      "\u001b[32mSaved FeatureData[Taxonomy] to: taxa/classification.qza\u001b[0m\r\n"
     ]
    }
   ],
   "source": [
    "!qiime feature-classifier classify-sklearn --i-reads dada2_output/representative_sequences.qza\\\n",
    "                                          --i-classifier $classifier \\\n",
    "                                          --p-n-jobs $NCORES \\\n",
    "                                          --output-dir taxa \\\n",
    "--verbose\n"
   ]
  },
  {
   "cell_type": "markdown",
   "metadata": {},
   "source": [
    "As with all QZA files, you can export the output file to take a look at the classifications and confidence scores:"
   ]
  },
  {
   "cell_type": "code",
   "execution_count": 8,
   "metadata": {},
   "outputs": [
    {
     "name": "stdout",
     "output_type": "stream",
     "text": [
      "\u001b[32mExported taxa/classification.qza as TSVTaxonomyDirectoryFormat to directory taxa\u001b[0m\r\n"
     ]
    }
   ],
   "source": [
    "!qiime tools export --input-path taxa/classification.qza --output-path taxa"
   ]
  },
  {
   "cell_type": "markdown",
   "metadata": {},
   "source": [
    "## Assess subset of taxonomic scores by blast\n",
    "The performance of the taxonomic classification is difficult to assess without a gold-standard reference, but nonetheless one basic sanity check is to compare the taxonomic assignments with the top BLASTn hits for certain ASVs.\n"
   ]
  },
  {
   "cell_type": "code",
   "execution_count": 9,
   "metadata": {},
   "outputs": [
    {
     "name": "stdout",
     "output_type": "stream",
     "text": [
      "\u001b[32mSaved Visualization to: dada2_output/representative_sequences.qzv\u001b[0m\r\n"
     ]
    }
   ],
   "source": [
    "!qiime feature-table tabulate-seqs --i-data dada2_output/representative_sequences.qza \\\n",
    "                                   --o-visualization dada2_output/representative_sequences.qzv"
   ]
  },
  {
   "cell_type": "markdown",
   "metadata": {},
   "source": [
    "Fiter the representative_sequences.qza table  \n",
    "- "
   ]
  },
  {
   "cell_type": "code",
   "execution_count": 10,
   "metadata": {},
   "outputs": [
    {
     "name": "stdout",
     "output_type": "stream",
     "text": [
      "\u001b[32mSaved FeatureTable[Frequency] to: dada2_output/dada2_table_filt.qza\u001b[0m\r\n"
     ]
    }
   ],
   "source": [
    "#!!!!change -p-min-frequency!!!\n",
    "#filtering out rare ASVs (removed samples all samples that are <0.1% mean sample depth; mean sample depth =17,560 )\n",
    "!qiime feature-table filter-features \\\n",
    "   --i-table dada2_output/table.qza \\\n",
    "   --p-min-frequency 20 \\\n",
    "   --p-min-samples 1 \\\n",
    "   --o-filtered-table dada2_output/dada2_table_filt.qza"
   ]
  },
  {
   "cell_type": "code",
   "execution_count": 11,
   "metadata": {},
   "outputs": [
    {
     "name": "stdout",
     "output_type": "stream",
     "text": [
      "\u001b[32mSaved FeatureTable[Frequency] to: dada2_output/dada2_table_filt_contam.qza\u001b[0m\r\n"
     ]
    }
   ],
   "source": [
    "#filtering out contaminant and unclassified ASVs\n",
    "!qiime taxa filter-table \\\n",
    "   --i-table dada2_output/dada2_table_filt.qza \\\n",
    "   --i-taxonomy taxa/classification.qza \\\n",
    "   --p-include p__ \\\n",
    "   --p-exclude mitochondria,chloroplast \\\n",
    "   --o-filtered-table dada2_output/dada2_table_filt_contam.qza"
   ]
  },
  {
   "cell_type": "code",
   "execution_count": 12,
   "metadata": {},
   "outputs": [
    {
     "name": "stdout",
     "output_type": "stream",
     "text": [
      "\u001b[32mSaved Visualization to: dada2_output/dada2_table_filt_contam_summary.qzv\u001b[0m\r\n"
     ]
    }
   ],
   "source": [
    "!qiime feature-table summarize \\\n",
    "   --i-table dada2_output/dada2_table_filt_contam.qza \\\n",
    "   --o-visualization dada2_output/dada2_table_filt_contam_summary.qzv"
   ]
  },
  {
   "cell_type": "code",
   "execution_count": 15,
   "metadata": {},
   "outputs": [],
   "source": [
    "cp dada2_output/dada2_table_filt_contam.qza dada2_output/dada2_table_final.qza"
   ]
  },
  {
   "cell_type": "code",
   "execution_count": 17,
   "metadata": {},
   "outputs": [
    {
     "name": "stdout",
     "output_type": "stream",
     "text": [
      "\u001b[32mSaved Visualization to: dada2_output/rarefaction_curves_test.qzv\u001b[0m\r\n"
     ]
    }
   ],
   "source": [
    "#p-max-depth needs to be changed\n",
    "!qiime diversity alpha-rarefaction \\\n",
    "   --i-table dada2_output/dada2_table_final.qza \\\n",
    "   --p-max-depth 36000 \\\n",
    "   --p-steps 20 \\\n",
    "   --p-metrics 'observed_features' \\\n",
    "   --o-visualization dada2_output/rarefaction_curves_test.qzv"
   ]
  },
  {
   "cell_type": "code",
   "execution_count": 18,
   "metadata": {},
   "outputs": [
    {
     "name": "stdout",
     "output_type": "stream",
     "text": [
      "\u001b[32mSaved FeatureTable[Frequency] to: dada2_output/dada2_table_final.qza\u001b[0m\r\n"
     ]
    }
   ],
   "source": [
    "!qiime feature-table filter-samples \\\n",
    "   --i-table dada2_output/dada2_table_final.qza \\\n",
    "   --p-min-frequency 5000 \\\n",
    "   --o-filtered-table dada2_output/dada2_table_final.qza\n",
    "#setting a cutoff at 5000, BI4-D3 did not make it to the list. CF did not make it either"
   ]
  },
  {
   "cell_type": "markdown",
   "metadata": {},
   "source": [
    "## filter tables and sequence data"
   ]
  },
  {
   "cell_type": "code",
   "execution_count": 19,
   "metadata": {},
   "outputs": [
    {
     "name": "stdout",
     "output_type": "stream",
     "text": [
      "\u001b[32mSaved FeatureData[Sequence] to: dada2_output/rep_seqs_final.qza\u001b[0m\n",
      "\u001b[32mSaved Visualization to: dada2_output/dada2_table_final_summary.qzv\u001b[0m\n"
     ]
    }
   ],
   "source": [
    "!qiime feature-table filter-seqs \\\n",
    "   --i-data dada2_output/representative_sequences.qza \\\n",
    "   --i-table dada2_output/dada2_table_final.qza \\\n",
    "   --o-filtered-data dada2_output/rep_seqs_final.qza\n",
    "\n",
    "!qiime feature-table summarize \\\n",
    "   --i-table dada2_output/dada2_table_final.qza \\\n",
    "   --o-visualization dada2_output/dada2_table_final_summary.qzv"
   ]
  },
  {
   "cell_type": "markdown",
   "metadata": {},
   "source": [
    "## build tree\n",
    "there's a newer way to add sequences to a tree that I haven't yet used and it uses the sepp command. looks better bc the short reads are already added to the existing tree."
   ]
  },
  {
   "cell_type": "code",
   "execution_count": 20,
   "metadata": {},
   "outputs": [
    {
     "name": "stdout",
     "output_type": "stream",
     "text": [
      "\u001b[32mSaved FeatureData[AlignedSequence] to: dada2_output/aligned-rep-seqs.qza\u001b[0m\n",
      "\u001b[32mSaved FeatureData[AlignedSequence] to: dada2_output/masked-aligned-rep-seqs.qza\u001b[0m\n",
      "\u001b[32mSaved Phylogeny[Unrooted] to: dada2_output/unrooted-tree.qza\u001b[0m\n",
      "\u001b[32mSaved Phylogeny[Rooted] to: dada2_output/rooted-tree.qza\u001b[0m\n"
     ]
    }
   ],
   "source": [
    "!qiime phylogeny align-to-tree-mafft-fasttree \\\n",
    "  --i-sequences dada2_output/rep_seqs_final.qza \\\n",
    "  --o-alignment dada2_output/aligned-rep-seqs.qza \\\n",
    "  --o-masked-alignment dada2_output/masked-aligned-rep-seqs.qza \\\n",
    "  --o-tree dada2_output/unrooted-tree.qza \\\n",
    "  --o-rooted-tree dada2_output/rooted-tree.qza"
   ]
  },
  {
   "cell_type": "code",
   "execution_count": 29,
   "metadata": {},
   "outputs": [
    {
     "name": "stdout",
     "output_type": "stream",
     "text": [
      "\u001b[32mSaved Visualization to: rarefaction_curves.qzv\u001b[0m\r\n"
     ]
    }
   ],
   "source": [
    "#generate rarefaction curves\n",
    "!qiime diversity alpha-rarefaction \\\n",
    "   --i-table dada2_output/dada2_table_final.qza \\\n",
    "   --p-max-depth 36000 \\\n",
    "   --p-steps 20 \\\n",
    "   --i-phylogeny dada2_output/rooted-tree.qza \\\n",
    "   --m-metadata-file $mapping_file \\\n",
    "   --o-visualization rarefaction_curves.qzv"
   ]
  },
  {
   "cell_type": "code",
   "execution_count": null,
   "metadata": {},
   "outputs": [],
   "source": [
    "!qiime diversity alpha-rarefaction \\\n",
    "   --i-table dada2_output/dada2_table_final.qza \\\n",
    "   --p-max-depth 36000 \\\n",
    "   --p-steps 20 \\\n",
    "   --i-phylogeny dada2_output/rooted-tree.qza \\\n",
    "   --o-visualization rarefaction_curves_eachsample.qzv"
   ]
  },
  {
   "cell_type": "code",
   "execution_count": null,
   "metadata": {},
   "outputs": [],
   "source": [
    "#generate stacked barchart of relative taxon abundances\n",
    "!qiime taxa barplot \\\n",
    "   --i-table dada2_output/dada2_table_final.qza \\\n",
    "   --i-taxonomy taxa/classification.qza \\\n",
    "   --m-metadata-file $mapping_file \\\n",
    "   --o-visualization taxa/taxa_barplot.qzv"
   ]
  },
  {
   "cell_type": "code",
   "execution_count": null,
   "metadata": {},
   "outputs": [],
   "source": [
    "!qiime feature-table group \\\n",
    "   --i-table dada2_output/dada2_table_final.qza \\\n",
    "   --p-axis sample \\\n",
    "   --p-mode sum \\\n",
    "   --m-metadata-file $mapping_file \\\n",
    "   --m-metadata-column FullTreatment \\\n",
    "   --o-grouped-table dada2_output/dada2_table_final_FullTreatment.qza"
   ]
  },
  {
   "cell_type": "markdown",
   "metadata": {},
   "source": [
    "Calculating diversity metrics and generating ordination plots\n",
    "Common alpha and beta-diversity metrics can be calculated with a single command in QIIME2. In addition, ordination plots (such as PCoA plots for weighted UniFrac distances) will be generated automatically as well. This command will also rarefy all samples to the sample sequencing depth before calculating these metrics (X is a placeholder for the lowest reasonable sample depth; samples with depth below this cut-off will be excluded)."
   ]
  },
  {
   "cell_type": "code",
   "execution_count": null,
   "metadata": {},
   "outputs": [],
   "source": [
    "!qiime diversity core-metrics-phylogenetic \\\n",
    "   --i-table dada2_output/dada2_table_final.qza \\\n",
    "   --i-phylogeny dada2_output/rooted-tree.qza \\\n",
    "   --p-sampling-depth 5000 \\\n",
    "   --m-metadata-file $mapping_file  \\\n",
    "   --output-dir diversity"
   ]
  },
  {
   "cell_type": "code",
   "execution_count": null,
   "metadata": {},
   "outputs": [],
   "source": [
    "!qiime diversity alpha-group-significance \\\n",
    "   --i-alpha-diversity diversity/shannon_vector.qza \\\n",
    "   --m-metadata-file $mapping_file \\\n",
    "   --o-visualization diversity/shannon_compare_groups.qzv"
   ]
  },
  {
   "cell_type": "code",
   "execution_count": null,
   "metadata": {},
   "outputs": [],
   "source": [
    "!qiime diversity alpha-group-significance \\\n",
    "   --i-alpha-diversity diversity/evenness_vector.qza \\\n",
    "   --m-metadata-file $mapping_file \\\n",
    "   --o-visualization diversity/evenness_compare_groups.qzv\n",
    "\n",
    "!qiime diversity alpha-group-significance \\\n",
    "   --i-alpha-diversity diversity/faith_pd_vector.qza \\\n",
    "   --m-metadata-file $mapping_file \\\n",
    "   --o-visualization diversity/faith_pd_compare_groups.qzv"
   ]
  },
  {
   "cell_type": "code",
   "execution_count": null,
   "metadata": {},
   "outputs": [],
   "source": [
    "#add pseudocount... cannot have non-zero abundances\n",
    "!qiime composition add-pseudocount \\\n",
    "   --i-table dada2_output/dada2_table_final.qza \\\n",
    "   --p-pseudocount 1 \\\n",
    "   --o-composition-table dada2_output/dada2_table_final_pseudocount.qza"
   ]
  },
  {
   "cell_type": "code",
   "execution_count": null,
   "metadata": {},
   "outputs": [],
   "source": [
    "!qiime composition ancom \\\n",
    "   --i-table dada2_output/dada2_table_final_pseudocount.qza \\\n",
    "   --m-metadata-file $mapping_file \\\n",
    "   --m-metadata-column FullTreatment \\\n",
    "   --output-dir ancom_output"
   ]
  },
  {
   "cell_type": "code",
   "execution_count": null,
   "metadata": {},
   "outputs": [],
   "source": [
    "!qiime composition ancom \\\n",
    "   --i-table dada2_output/dada2_table_final_pseudocount.qza \\\n",
    "   --m-metadata-file $mapping_file \\\n",
    "   --m-metadata-column Treatment \\\n",
    "   --output-dir ancom2_output"
   ]
  },
  {
   "cell_type": "code",
   "execution_count": 43,
   "metadata": {},
   "outputs": [
    {
     "name": "stdout",
     "output_type": "stream",
     "text": [
      "\u001b[32mExported dada2_output/rep_seqs_final.qza as DNASequencesDirectoryFormat to directory dada2_output_exported\u001b[0m\r\n"
     ]
    }
   ],
   "source": [
    "!qiime tools export \\\n",
    "   --input-path dada2_output/rep_seqs_final.qza \\\n",
    "   --output-path dada2_output_exported"
   ]
  },
  {
   "cell_type": "code",
   "execution_count": 47,
   "metadata": {},
   "outputs": [
    {
     "name": "stdout",
     "output_type": "stream",
     "text": [
      "\u001b[32mSaved Visualization to: diversity/faiths_pd_anova.qzv\u001b[0m\r\n"
     ]
    }
   ],
   "source": [
    "!qiime longitudinal anova \\\n",
    "  --m-metadata-file diversity/faith_pd_vector.qza \\\n",
    "  --m-metadata-file $mapping_file \\\n",
    "  --p-formula 'faith_pd ~ FullTreatment * Day' \\\n",
    "  --o-visualization diversity/faiths_pd_anova.qzv"
   ]
  },
  {
   "cell_type": "code",
   "execution_count": 50,
   "metadata": {},
   "outputs": [
    {
     "name": "stdout",
     "output_type": "stream",
     "text": [
      "\u001b[32mSaved Visualization to: diversity/unweighted-unifrac-FullTreatment-significance.qzv\u001b[0m\n",
      "\u001b[32mSaved Visualization to: diversity/weighted-unifrac-FullTreatment-significance.qzv\u001b[0m\n",
      "\u001b[32mSaved Visualization to: diversity/Bray-Curtis-FullTreatment-significance.qzv\u001b[0m\n"
     ]
    }
   ],
   "source": [
    "!qiime diversity beta-group-significance \\\n",
    "  --i-distance-matrix diversity/unweighted_unifrac_distance_matrix.qza \\\n",
    "  --m-metadata-file $mapping_file \\\n",
    "  --m-metadata-column FullTreatment \\\n",
    "  --o-visualization diversity/unweighted-unifrac-FullTreatment-significance.qzv\n",
    "\n",
    "!qiime diversity beta-group-significance \\\n",
    "  --i-distance-matrix diversity/weighted_unifrac_distance_matrix.qza \\\n",
    "  --m-metadata-file $mapping_file \\\n",
    "  --m-metadata-column FullTreatment \\\n",
    "  --o-visualization diversity/weighted-unifrac-FullTreatment-significance.qzv\n",
    "\n",
    "!qiime diversity beta-group-significance \\\n",
    "  --i-distance-matrix diversity/bray_curtis_distance_matrix.qza \\\n",
    "  --m-metadata-file $mapping_file \\\n",
    "  --m-metadata-column FullTreatment \\\n",
    "  --o-visualization diversity/Bray-Curtis-FullTreatment-significance.qzv"
   ]
  },
  {
   "cell_type": "code",
   "execution_count": 58,
   "metadata": {},
   "outputs": [
    {
     "name": "stdout",
     "output_type": "stream",
     "text": [
      "\u001b[32mSaved Visualization to: ./pc_vol.qzv\u001b[0m\r\n"
     ]
    }
   ],
   "source": [
    "!qiime longitudinal volatility \\\n",
    "  --m-metadata-file $mapping_file \\\n",
    "  --m-metadata-file diversity/unweighted_unifrac_pcoa_results.qza \\\n",
    "  --p-state-column Time \\\n",
    "  --p-individual-id-column Sample \\\n",
    "  --p-default-group-column 'FullTreatment' \\\n",
    "  --p-default-metric 'Axis 2' \\\n",
    "  --o-visualization ./pc_vol.qzv"
   ]
  },
  {
   "cell_type": "code",
   "execution_count": 44,
   "metadata": {},
   "outputs": [
    {
     "name": "stdout",
     "output_type": "stream",
     "text": [
      "sed: -e: No such file or directory\n",
      "\u001b[32mExported dada2_output/dada2_table_final.qza as BIOMV210DirFmt to directory dada2_output_exported\u001b[0m\n",
      "Traceback (most recent call last):\n",
      "  File \"/Users/vklepacc/miniconda3/envs/qiime2-2020.8/bin/biom\", line 11, in <module>\n",
      "    sys.exit(cli())\n",
      "  File \"/Users/vklepacc/miniconda3/envs/qiime2-2020.8/lib/python3.6/site-packages/click/core.py\", line 829, in __call__\n",
      "    return self.main(*args, **kwargs)\n",
      "  File \"/Users/vklepacc/miniconda3/envs/qiime2-2020.8/lib/python3.6/site-packages/click/core.py\", line 782, in main\n",
      "    rv = self.invoke(ctx)\n",
      "  File \"/Users/vklepacc/miniconda3/envs/qiime2-2020.8/lib/python3.6/site-packages/click/core.py\", line 1259, in invoke\n",
      "    return _process_result(sub_ctx.command.invoke(sub_ctx))\n",
      "  File \"/Users/vklepacc/miniconda3/envs/qiime2-2020.8/lib/python3.6/site-packages/click/core.py\", line 1066, in invoke\n",
      "    return ctx.invoke(self.callback, **ctx.params)\n",
      "  File \"/Users/vklepacc/miniconda3/envs/qiime2-2020.8/lib/python3.6/site-packages/click/core.py\", line 610, in invoke\n",
      "    return callback(*args, **kwargs)\n",
      "  File \"/Users/vklepacc/miniconda3/envs/qiime2-2020.8/lib/python3.6/site-packages/biom/cli/metadata_adder.py\", line 107, in add_metadata\n",
      "    float_fields, sample_header, observation_header)\n",
      "  File \"/Users/vklepacc/miniconda3/envs/qiime2-2020.8/lib/python3.6/site-packages/biom/cli/metadata_adder.py\", line 174, in _add_metadata\n",
      "    header=observation_header)\n",
      "  File \"/Users/vklepacc/miniconda3/envs/qiime2-2020.8/lib/python3.6/site-packages/biom/parse.py\", line 538, in from_file\n",
      "    raise BiomParseException(\"No header line was found in mapping \"\n",
      "biom.exception.BiomParseException: No header line was found in mapping file.\n",
      "Usage: biom convert [OPTIONS]\n",
      "Try 'biom convert -h' for help.\n",
      "\n",
      "Error: Invalid value for '-i' / '--input-fp': File 'dada2_output_exported/feature-table_w_tax.biom' does not exist.\n"
     ]
    }
   ],
   "source": [
    "!sed -i -e '1 s/Feature/#Feature/' -e '1 s/Taxon/taxonomy/' taxa/taxonomy.tsv\n",
    "\n",
    "!qiime tools export \\\n",
    "   --input-path dada2_output/dada2_table_final.qza \\\n",
    "   --output-path dada2_output_exported\n",
    "\n",
    "!biom add-metadata \\\n",
    "   -i dada2_output_exported/feature-table.biom \\\n",
    "   -o dada2_output_exported/feature-table_w_tax.biom \\\n",
    "   --observation-metadata-fp taxa/taxonomy.tsv \\\n",
    "   --sc-separated taxonomy\n",
    "\n",
    "!biom convert \\\n",
    "   -i dada2_output_exported/feature-table_w_tax.biom \\\n",
    "   -o dada2_output_exported/feature-table_w_tax.txt \\\n",
    "   --to-tsv \\\n",
    "   --header-key taxonomy"
   ]
  },
  {
   "cell_type": "code",
   "execution_count": null,
   "metadata": {},
   "outputs": [],
   "source": []
  }
 ],
 "metadata": {
  "kernelspec": {
   "display_name": "Python 3",
   "language": "python",
   "name": "python3"
  },
  "language_info": {
   "codemirror_mode": {
    "name": "ipython",
    "version": 3
   },
   "file_extension": ".py",
   "mimetype": "text/x-python",
   "name": "python",
   "nbconvert_exporter": "python",
   "pygments_lexer": "ipython3",
   "version": "3.6.11"
  }
 },
 "nbformat": 4,
 "nbformat_minor": 2
}
